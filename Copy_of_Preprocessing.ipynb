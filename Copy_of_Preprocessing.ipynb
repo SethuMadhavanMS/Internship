{
  "nbformat": 4,
  "nbformat_minor": 0,
  "metadata": {
    "colab": {
      "provenance": [],
      "gpuType": "T4"
    },
    "kernelspec": {
      "name": "python3",
      "display_name": "Python 3"
    },
    "language_info": {
      "name": "python"
    },
    "accelerator": "GPU"
  },
  "cells": [
    {
      "cell_type": "code",
      "execution_count": null,
      "metadata": {
        "id": "QgBbf74NCsMu"
      },
      "outputs": [],
      "source": [
        "import zipfile\n",
        "import os\n",
        "import matplotlib.pyplot as plt # For visualisation\n",
        "import numpy as np # For arithmetic operation\n",
        "from PIL import Image\n",
        "\n",
        "import tensorflow as tf #tensorflow is an open-source library that is used for Machine Learning\n",
        "from tensorflow import keras#keras is an open-source library that is used for Machine Learning\n",
        "from keras import Sequential # import Sequential model from keras\n",
        "from keras.layers import Dense,Conv2D,MaxPool2D,Flatten,BatchNormalization,Dropout,MaxPooling2D # different layers from keras"
      ]
    },
    {
      "cell_type": "code",
      "source": [
        "# mount the drive\n",
        "from google.colab import drive\n",
        "drive.mount('/content/drive')"
      ],
      "metadata": {
        "colab": {
          "base_uri": "https://localhost:8080/"
        },
        "id": "rCGKNO1RQvSs",
        "outputId": "dabba795-9ef5-45dc-9a02-944d952b16e1"
      },
      "execution_count": null,
      "outputs": [
        {
          "output_type": "stream",
          "name": "stdout",
          "text": [
            "Mounted at /content/drive\n"
          ]
        }
      ]
    },
    {
      "cell_type": "code",
      "source": [
        "# import statement\n",
        "import zipfile\n",
        "\n",
        "# extract zip files\n",
        "zip_ref = zipfile.ZipFile('/content/extracted_frames_1.zip','r')\n",
        "zip_ref.extractall('/content') # extratc files to root folder\n",
        "zip_ref.close()"
      ],
      "metadata": {
        "id": "q-kDeiqrQTUk"
      },
      "execution_count": null,
      "outputs": []
    },
    {
      "cell_type": "code",
      "source": [
        "train_ds, val_ds = keras.utils.image_dataset_from_directory(\n",
        "    \"/content/extracted_frames_1\",\n",
        "    validation_split=0.2,\n",
        "    subset=\"both\",\n",
        "    seed=1337,\n",
        "    image_size=(256, 256), # size of the image\n",
        "    batch_size=32, # input will be processed as a batch of 32\n",
        "    shuffle = True, # shuffle the data\n",
        "    labels='inferred',\n",
        "    label_mode='categorical',\n",
        ")"
      ],
      "metadata": {
        "colab": {
          "base_uri": "https://localhost:8080/"
        },
        "id": "F5ohP1P4Q_jv",
        "outputId": "bcebf210-677a-41a4-89a2-f3397c58d496"
      },
      "execution_count": null,
      "outputs": [
        {
          "output_type": "stream",
          "name": "stdout",
          "text": [
            "Found 496 files belonging to 3 classes.\n",
            "Using 397 files for training.\n",
            "Using 99 files for validation.\n"
          ]
        }
      ]
    },
    {
      "cell_type": "code",
      "source": [
        "# Create a normalization layer\n",
        "normalization_layer = keras.layers.Rescaling(1./255)\n",
        "\n",
        "# Apply normalization to the datasets\n",
        "# Normalisation doen't change the shape or color channels of the image\n",
        "train_ds = train_ds.map(lambda x, y: (normalization_layer(x), y))\n",
        "val_ds = val_ds.map(lambda x, y: (normalization_layer(x), y))"
      ],
      "metadata": {
        "id": "_xXulMbjC02M"
      },
      "execution_count": null,
      "outputs": []
    },
    {
      "cell_type": "code",
      "source": [],
      "metadata": {
        "id": "bSjZInqIT9aP"
      },
      "execution_count": null,
      "outputs": []
    }
  ]
}